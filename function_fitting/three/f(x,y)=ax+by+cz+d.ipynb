{
 "cells": [
  {
   "cell_type": "code",
   "execution_count": 3,
   "metadata": {
    "scrolled": false
   },
   "outputs": [
    {
     "name": "stdout",
     "output_type": "stream",
     "text": [
      "coefficients(b1,b2...): [-1.70514184  0.55162197  0.3732708 ]\n",
      "intercept(b0): 15.2565473051\n",
      "\n",
      "真实值\t预测值\t\t误差率\n",
      "[ 20.8] [ 20.10489209] [ 0.03341865]\n",
      "[ 20.1] [ 20.6764178] [ 0.0286775]\n",
      "[ 16.9] [ 18.52794079] [ 0.09632786]\n",
      "[ 16.3] [ 16.53077005] [ 0.01415767]\n",
      "[ 16.4] [ 16.56540409] [ 0.01008562]\n",
      "[ 19.] [ 19.18942438] [ 0.0099697]\n",
      "[ 16.] [ 16.37307245] [ 0.02331703]\n",
      "[ 20.] [ 19.17683461] [ 0.04115827]\n",
      "[ 15.5] [ 16.90701247] [ 0.090775]\n",
      "[ 16.5] [ 16.99243213] [ 0.02984437]\n",
      "[ 19.] [ 17.60403779] [ 0.0734717]\n",
      "[ 17.] [ 16.89739591] [ 0.00603553]\n",
      "[ 17.6] [ 18.44568156] [ 0.04805009]\n",
      "[ 20.1] [ 20.21014259] [ 0.00547973]\n",
      "[ 17.9] [ 18.97367666] [ 0.05998194]\n",
      "[ 17.] [ 18.69223347] [ 0.09954315]\n",
      "[ 17.] [ 17.69539934] [ 0.04090584]\n",
      "[ 18.7] [ 19.10696565] [ 0.02176287]\n",
      "[ 19.2] [ 20.47763312] [ 0.06654339]\n",
      "平均误差率: [ 0.04207926]\n"
     ]
    }
   ],
   "source": [
    "import sys\n",
    "sys.path.append(r'../../')\n",
    "from get_data import Data\n",
    "\n",
    "input_dim=(0,1,2)\n",
    "train_num=52\n",
    "data=Data(\"../.././data/data.txt\",input_dim,train_num)\n",
    "\n",
    "#训练指数模型\n",
    "\n",
    "from scipy.optimize import curve_fit\n",
    "import matplotlib.pyplot as plt\n",
    "import numpy as np\n",
    "from sklearn import datasets,linear_model\n",
    "\n",
    "\n",
    "xdata=data.train.X\n",
    "ydata=data.train.Y[:,0]\n",
    "\n",
    "# 训练数据\n",
    "regr = linear_model.LinearRegression()\n",
    "regr.fit(xdata,ydata)\n",
    "print('coefficients(b1,b2...):',regr.coef_)\n",
    "print('intercept(b0):',regr.intercept_)\n",
    "\n",
    "def fit_func(x, a ,b,c,d):\n",
    "    return a*x[0]+b*x[1]+c*x[2]+d\n",
    "\n",
    "\n",
    "pre_y=[]\n",
    "for x in data.test.X:\n",
    "    pre_y.append([fit_func(x,regr.coef_[0],regr.coef_[1],regr.coef_[2],regr.intercept_)])\n",
    "pre_y=np.array(pre_y)\n",
    "\n",
    "err_sum=0.0\n",
    "print(\"\\n真实值\\t预测值\\t\\t误差率\")\n",
    "for a,b in zip(data.test.Y , pre_y):\n",
    "    err_sum+=abs(a-b)/a\n",
    "    print(a,b,abs(a-b)/a)\n",
    "print(\"平均误差率:\",err_sum/data.test.Y.shape[0])"
   ]
  }
 ],
 "metadata": {
  "kernelspec": {
   "display_name": "Python 3",
   "language": "python",
   "name": "python3"
  },
  "language_info": {
   "codemirror_mode": {
    "name": "ipython",
    "version": 3
   },
   "file_extension": ".py",
   "mimetype": "text/x-python",
   "name": "python",
   "nbconvert_exporter": "python",
   "pygments_lexer": "ipython3",
   "version": "3.5.4"
  }
 },
 "nbformat": 4,
 "nbformat_minor": 2
}
